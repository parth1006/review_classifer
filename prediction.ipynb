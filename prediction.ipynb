{
 "cells": [
  {
   "cell_type": "code",
   "execution_count": 1,
   "metadata": {},
   "outputs": [],
   "source": [
    "import numpy as np\n",
    "import tensorflow as tf\n",
    "from tensorflow.keras.datasets import imdb\n",
    "from tensorflow.keras.models import load_model\n",
    "from tensorflow.keras.preprocessing import sequence"
   ]
  },
  {
   "cell_type": "code",
   "execution_count": 2,
   "metadata": {},
   "outputs": [],
   "source": [
    "word_index=imdb.get_word_index()\n",
    "reverse_word_index=dict([(value,key) for (key,value) in word_index.items()])"
   ]
  },
  {
   "cell_type": "code",
   "execution_count": 3,
   "metadata": {},
   "outputs": [
    {
     "name": "stderr",
     "output_type": "stream",
     "text": [
      "WARNING:absl:Compiled the loaded model, but the compiled metrics have yet to be built. `model.compile_metrics` will be empty until you train or evaluate the model.\n"
     ]
    }
   ],
   "source": [
    "model=load_model('rnn_model.h5')"
   ]
  },
  {
   "cell_type": "code",
   "execution_count": 4,
   "metadata": {},
   "outputs": [
    {
     "data": {
      "text/html": [
       "<pre style=\"white-space:pre;overflow-x:auto;line-height:normal;font-family:Menlo,'DejaVu Sans Mono',consolas,'Courier New',monospace\"><span style=\"font-weight: bold\">Model: \"sequential_1\"</span>\n",
       "</pre>\n"
      ],
      "text/plain": [
       "\u001b[1mModel: \"sequential_1\"\u001b[0m\n"
      ]
     },
     "metadata": {},
     "output_type": "display_data"
    },
    {
     "data": {
      "text/html": [
       "<pre style=\"white-space:pre;overflow-x:auto;line-height:normal;font-family:Menlo,'DejaVu Sans Mono',consolas,'Courier New',monospace\">┏━━━━━━━━━━━━━━━━━━━━━━━━━━━━━━━━━┳━━━━━━━━━━━━━━━━━━━━━━━━┳━━━━━━━━━━━━━━━┓\n",
       "┃<span style=\"font-weight: bold\"> Layer (type)                    </span>┃<span style=\"font-weight: bold\"> Output Shape           </span>┃<span style=\"font-weight: bold\">       Param # </span>┃\n",
       "┡━━━━━━━━━━━━━━━━━━━━━━━━━━━━━━━━━╇━━━━━━━━━━━━━━━━━━━━━━━━╇━━━━━━━━━━━━━━━┩\n",
       "│ embedding_1 (<span style=\"color: #0087ff; text-decoration-color: #0087ff\">Embedding</span>)         │ (<span style=\"color: #00d7ff; text-decoration-color: #00d7ff\">None</span>, <span style=\"color: #00af00; text-decoration-color: #00af00\">500</span>, <span style=\"color: #00af00; text-decoration-color: #00af00\">128</span>)       │     <span style=\"color: #00af00; text-decoration-color: #00af00\">1,280,000</span> │\n",
       "├─────────────────────────────────┼────────────────────────┼───────────────┤\n",
       "│ simple_rnn (<span style=\"color: #0087ff; text-decoration-color: #0087ff\">SimpleRNN</span>)          │ (<span style=\"color: #00d7ff; text-decoration-color: #00d7ff\">None</span>, <span style=\"color: #00af00; text-decoration-color: #00af00\">128</span>)            │        <span style=\"color: #00af00; text-decoration-color: #00af00\">32,896</span> │\n",
       "├─────────────────────────────────┼────────────────────────┼───────────────┤\n",
       "│ dense (<span style=\"color: #0087ff; text-decoration-color: #0087ff\">Dense</span>)                   │ (<span style=\"color: #00d7ff; text-decoration-color: #00d7ff\">None</span>, <span style=\"color: #00af00; text-decoration-color: #00af00\">1</span>)              │           <span style=\"color: #00af00; text-decoration-color: #00af00\">129</span> │\n",
       "└─────────────────────────────────┴────────────────────────┴───────────────┘\n",
       "</pre>\n"
      ],
      "text/plain": [
       "┏━━━━━━━━━━━━━━━━━━━━━━━━━━━━━━━━━┳━━━━━━━━━━━━━━━━━━━━━━━━┳━━━━━━━━━━━━━━━┓\n",
       "┃\u001b[1m \u001b[0m\u001b[1mLayer (type)                   \u001b[0m\u001b[1m \u001b[0m┃\u001b[1m \u001b[0m\u001b[1mOutput Shape          \u001b[0m\u001b[1m \u001b[0m┃\u001b[1m \u001b[0m\u001b[1m      Param #\u001b[0m\u001b[1m \u001b[0m┃\n",
       "┡━━━━━━━━━━━━━━━━━━━━━━━━━━━━━━━━━╇━━━━━━━━━━━━━━━━━━━━━━━━╇━━━━━━━━━━━━━━━┩\n",
       "│ embedding_1 (\u001b[38;5;33mEmbedding\u001b[0m)         │ (\u001b[38;5;45mNone\u001b[0m, \u001b[38;5;34m500\u001b[0m, \u001b[38;5;34m128\u001b[0m)       │     \u001b[38;5;34m1,280,000\u001b[0m │\n",
       "├─────────────────────────────────┼────────────────────────┼───────────────┤\n",
       "│ simple_rnn (\u001b[38;5;33mSimpleRNN\u001b[0m)          │ (\u001b[38;5;45mNone\u001b[0m, \u001b[38;5;34m128\u001b[0m)            │        \u001b[38;5;34m32,896\u001b[0m │\n",
       "├─────────────────────────────────┼────────────────────────┼───────────────┤\n",
       "│ dense (\u001b[38;5;33mDense\u001b[0m)                   │ (\u001b[38;5;45mNone\u001b[0m, \u001b[38;5;34m1\u001b[0m)              │           \u001b[38;5;34m129\u001b[0m │\n",
       "└─────────────────────────────────┴────────────────────────┴───────────────┘\n"
      ]
     },
     "metadata": {},
     "output_type": "display_data"
    },
    {
     "data": {
      "text/html": [
       "<pre style=\"white-space:pre;overflow-x:auto;line-height:normal;font-family:Menlo,'DejaVu Sans Mono',consolas,'Courier New',monospace\"><span style=\"font-weight: bold\"> Total params: </span><span style=\"color: #00af00; text-decoration-color: #00af00\">1,313,027</span> (5.01 MB)\n",
       "</pre>\n"
      ],
      "text/plain": [
       "\u001b[1m Total params: \u001b[0m\u001b[38;5;34m1,313,027\u001b[0m (5.01 MB)\n"
      ]
     },
     "metadata": {},
     "output_type": "display_data"
    },
    {
     "data": {
      "text/html": [
       "<pre style=\"white-space:pre;overflow-x:auto;line-height:normal;font-family:Menlo,'DejaVu Sans Mono',consolas,'Courier New',monospace\"><span style=\"font-weight: bold\"> Trainable params: </span><span style=\"color: #00af00; text-decoration-color: #00af00\">1,313,025</span> (5.01 MB)\n",
       "</pre>\n"
      ],
      "text/plain": [
       "\u001b[1m Trainable params: \u001b[0m\u001b[38;5;34m1,313,025\u001b[0m (5.01 MB)\n"
      ]
     },
     "metadata": {},
     "output_type": "display_data"
    },
    {
     "data": {
      "text/html": [
       "<pre style=\"white-space:pre;overflow-x:auto;line-height:normal;font-family:Menlo,'DejaVu Sans Mono',consolas,'Courier New',monospace\"><span style=\"font-weight: bold\"> Non-trainable params: </span><span style=\"color: #00af00; text-decoration-color: #00af00\">0</span> (0.00 B)\n",
       "</pre>\n"
      ],
      "text/plain": [
       "\u001b[1m Non-trainable params: \u001b[0m\u001b[38;5;34m0\u001b[0m (0.00 B)\n"
      ]
     },
     "metadata": {},
     "output_type": "display_data"
    },
    {
     "data": {
      "text/html": [
       "<pre style=\"white-space:pre;overflow-x:auto;line-height:normal;font-family:Menlo,'DejaVu Sans Mono',consolas,'Courier New',monospace\"><span style=\"font-weight: bold\"> Optimizer params: </span><span style=\"color: #00af00; text-decoration-color: #00af00\">2</span> (12.00 B)\n",
       "</pre>\n"
      ],
      "text/plain": [
       "\u001b[1m Optimizer params: \u001b[0m\u001b[38;5;34m2\u001b[0m (12.00 B)\n"
      ]
     },
     "metadata": {},
     "output_type": "display_data"
    }
   ],
   "source": [
    "model.summary()"
   ]
  },
  {
   "cell_type": "code",
   "execution_count": 5,
   "metadata": {},
   "outputs": [
    {
     "data": {
      "text/plain": [
       "[array([[ 0.01594211, -0.03633416, -0.04822366, ...,  0.11825401,\n",
       "          0.0111015 ,  0.00074923],\n",
       "        [ 0.0531663 , -0.01319331, -0.02558752, ..., -0.02119822,\n",
       "         -0.01119212, -0.00021545],\n",
       "        [ 0.04594442, -0.09346763, -0.00411377, ..., -0.02310862,\n",
       "         -0.01265291, -0.02837993],\n",
       "        ...,\n",
       "        [ 0.05222103,  0.03170867,  0.03493022, ...,  0.03957064,\n",
       "         -0.00169566, -0.05474747],\n",
       "        [-0.01392701, -0.00601517, -0.01067812, ..., -0.07470212,\n",
       "         -0.07109721, -0.02796759],\n",
       "        [ 0.15559252, -0.16156183,  0.15917064, ...,  0.14564782,\n",
       "          0.11027119, -0.16019928]], dtype=float32),\n",
       " array([[ 0.07115281, -0.11897821,  0.07721346, ...,  0.13913298,\n",
       "         -0.0021392 , -0.12227781],\n",
       "        [-0.1200226 ,  0.10027583,  0.01070767, ...,  0.12408862,\n",
       "         -0.0567311 ,  0.02485297],\n",
       "        [-0.14256321, -0.01560411,  0.0314119 , ...,  0.05914426,\n",
       "          0.02445357,  0.05798505],\n",
       "        ...,\n",
       "        [ 0.06416969,  0.06200592,  0.06271337, ...,  0.14643513,\n",
       "         -0.05078698,  0.07618599],\n",
       "        [ 0.10891312, -0.14610086, -0.02744824, ..., -0.04192607,\n",
       "          0.17967713,  0.06563933],\n",
       "        [ 0.06458893,  0.08983956, -0.1833075 , ..., -0.13890643,\n",
       "          0.11906131, -0.07988211]], dtype=float32),\n",
       " array([[-0.05973769,  0.01105757, -0.0071278 , ..., -0.09100289,\n",
       "          0.12936981, -0.09643202],\n",
       "        [-0.05920279, -0.01838434,  0.02994726, ...,  0.03243012,\n",
       "          0.15639868, -0.05421732],\n",
       "        [-0.10873725, -0.05635744,  0.01849148, ..., -0.05487757,\n",
       "          0.0748735 ,  0.02368788],\n",
       "        ...,\n",
       "        [ 0.10659508, -0.03393764,  0.21780594, ...,  0.08635464,\n",
       "         -0.09073537, -0.12422443],\n",
       "        [-0.06783197, -0.11300743,  0.02251714, ...,  0.02479304,\n",
       "          0.05059119, -0.08864046],\n",
       "        [ 0.02618294,  0.06752028, -0.09179588, ...,  0.12709968,\n",
       "         -0.15179981, -0.07400533]], dtype=float32),\n",
       " array([-1.07140550e-02, -9.03328322e-03,  1.46936765e-02, -5.80986124e-03,\n",
       "        -6.38588041e-04,  5.44846244e-03,  1.48016829e-02, -2.13951971e-02,\n",
       "        -8.23102800e-06,  1.47389323e-02, -3.04739643e-02, -2.28013434e-02,\n",
       "         5.62764518e-03, -1.24194091e-02, -1.06159877e-02,  2.38060225e-02,\n",
       "        -3.00063044e-02,  1.29313776e-02, -1.78641081e-02,  4.27900767e-03,\n",
       "         2.82713920e-02,  1.38975214e-02, -2.14606281e-02,  2.46114912e-03,\n",
       "         1.31750014e-03,  5.29297581e-03,  2.32617296e-02, -1.08164363e-02,\n",
       "         1.03090815e-02, -1.77762215e-03, -2.19594920e-03, -8.84982292e-03,\n",
       "        -1.54785877e-02,  9.63029265e-03,  3.70273106e-02, -2.63378844e-02,\n",
       "        -2.55544968e-02,  3.33309658e-02,  1.07372273e-03,  1.64326336e-02,\n",
       "         3.18502001e-02,  8.78561521e-04, -2.71579647e-03, -1.45892622e-02,\n",
       "        -1.48564382e-02,  9.33445583e-04,  2.84286961e-02,  3.16639198e-03,\n",
       "        -8.75200145e-03,  2.73908931e-03,  2.35524662e-02,  3.46672088e-02,\n",
       "         2.13498846e-02,  1.61115434e-02, -2.71630771e-02, -5.75709681e-04,\n",
       "         9.77217103e-04, -1.62304360e-02,  2.46671196e-02, -9.45177395e-03,\n",
       "        -5.62919350e-03,  3.56257781e-02,  9.74085648e-03,  9.57393262e-04,\n",
       "        -3.52232903e-02,  7.26728188e-03,  4.83272504e-03, -4.62135263e-02,\n",
       "        -4.25457023e-03, -1.79903638e-02, -3.68349403e-02, -5.40494453e-04,\n",
       "        -2.33710650e-02,  5.61218010e-03,  1.44464495e-02, -5.54893399e-03,\n",
       "        -1.77195645e-04, -2.56974027e-02, -1.56547725e-02, -1.92672238e-02,\n",
       "        -8.99832603e-03,  1.09942141e-03, -3.35735716e-02, -2.66704597e-02,\n",
       "        -5.04419021e-03, -4.58300952e-03,  3.53470407e-02,  1.66353583e-02,\n",
       "        -1.09858457e-02, -2.00558733e-02, -2.32804585e-02,  1.63106155e-02,\n",
       "         2.33611674e-03,  5.23282361e-05, -4.86921147e-03,  3.11941113e-02,\n",
       "         7.68785505e-03, -5.88437961e-03,  4.22036983e-02,  1.55565459e-02,\n",
       "         1.51349586e-02,  9.04787239e-03, -3.23131569e-02, -7.60573475e-03,\n",
       "         2.41742376e-03,  2.31801085e-02, -1.02212075e-02,  1.48117347e-02,\n",
       "         4.40558717e-02,  1.09031042e-02, -7.15276040e-03, -4.75857258e-02,\n",
       "        -2.71676425e-02, -3.64640318e-02,  1.68763625e-03, -1.44822439e-02,\n",
       "        -2.77122986e-02, -2.09276052e-03, -1.15978066e-03, -3.86151858e-02,\n",
       "         1.64986253e-02, -1.35651175e-02, -1.71333998e-02, -2.60001253e-02,\n",
       "        -2.92104650e-02,  5.82218403e-04,  1.02554252e-02, -1.08194503e-03],\n",
       "       dtype=float32),\n",
       " array([[-0.66674554],\n",
       "        [-0.6636992 ],\n",
       "        [ 0.10936761],\n",
       "        [-0.12399283],\n",
       "        [-0.08044172],\n",
       "        [-0.15376557],\n",
       "        [ 0.14883785],\n",
       "        [-0.01871977],\n",
       "        [ 0.06599536],\n",
       "        [ 0.23141548],\n",
       "        [-0.00675212],\n",
       "        [-0.15620808],\n",
       "        [ 0.00363442],\n",
       "        [ 0.18078591],\n",
       "        [-0.01970373],\n",
       "        [-0.44084525],\n",
       "        [-1.791877  ],\n",
       "        [-0.07463004],\n",
       "        [ 0.20840874],\n",
       "        [-0.01060157],\n",
       "        [-0.15547366],\n",
       "        [ 0.01157531],\n",
       "        [ 0.01069887],\n",
       "        [-0.19780567],\n",
       "        [-0.23664269],\n",
       "        [ 0.09723736],\n",
       "        [ 0.05109872],\n",
       "        [-0.05580679],\n",
       "        [-0.1442932 ],\n",
       "        [-0.45961618],\n",
       "        [ 0.22253418],\n",
       "        [-0.17389229],\n",
       "        [ 0.11625245],\n",
       "        [-0.1795973 ],\n",
       "        [ 0.16399056],\n",
       "        [ 0.15252337],\n",
       "        [ 0.1343614 ],\n",
       "        [-0.14970182],\n",
       "        [-0.02165881],\n",
       "        [ 0.06334063],\n",
       "        [ 0.20365348],\n",
       "        [-0.7592213 ],\n",
       "        [-0.01546108],\n",
       "        [-0.3827582 ],\n",
       "        [ 0.20862068],\n",
       "        [-0.19604339],\n",
       "        [ 0.24566486],\n",
       "        [-0.0353821 ],\n",
       "        [-0.17972364],\n",
       "        [-0.06726294],\n",
       "        [ 0.20768654],\n",
       "        [ 0.08334065],\n",
       "        [ 0.17292097],\n",
       "        [ 0.1475004 ],\n",
       "        [-0.12336644],\n",
       "        [ 0.18225844],\n",
       "        [ 0.13527259],\n",
       "        [-0.85889316],\n",
       "        [ 0.05085859],\n",
       "        [ 0.03713799],\n",
       "        [-0.02679542],\n",
       "        [-0.1619724 ],\n",
       "        [-0.03054329],\n",
       "        [-0.24111734],\n",
       "        [-0.16813387],\n",
       "        [ 0.0242484 ],\n",
       "        [-0.23482788],\n",
       "        [-0.26296422],\n",
       "        [ 0.06969351],\n",
       "        [ 0.125078  ],\n",
       "        [-0.30881804],\n",
       "        [-0.2188227 ],\n",
       "        [ 0.16475642],\n",
       "        [ 0.16513154],\n",
       "        [-0.24694149],\n",
       "        [ 0.03966086],\n",
       "        [-0.44034484],\n",
       "        [ 0.23266248],\n",
       "        [ 0.13383396],\n",
       "        [-0.18972223],\n",
       "        [-0.14685129],\n",
       "        [ 0.01597326],\n",
       "        [-0.03246737],\n",
       "        [-0.01748065],\n",
       "        [-0.23146968],\n",
       "        [ 0.13117556],\n",
       "        [ 0.00226301],\n",
       "        [ 0.1366286 ],\n",
       "        [ 0.02936741],\n",
       "        [ 0.19390883],\n",
       "        [ 0.16774698],\n",
       "        [-0.23036002],\n",
       "        [-0.18899393],\n",
       "        [-0.12560079],\n",
       "        [-0.15547733],\n",
       "        [ 0.18352379],\n",
       "        [-0.18086869],\n",
       "        [-0.18010262],\n",
       "        [ 0.27076045],\n",
       "        [-0.0750232 ],\n",
       "        [ 0.08947106],\n",
       "        [-0.07944317],\n",
       "        [-0.35790688],\n",
       "        [-0.07044842],\n",
       "        [-0.09331281],\n",
       "        [ 0.10103457],\n",
       "        [-0.17944129],\n",
       "        [ 0.23709494],\n",
       "        [-0.21491659],\n",
       "        [ 0.2817939 ],\n",
       "        [ 0.1152273 ],\n",
       "        [ 0.06377296],\n",
       "        [ 0.12132157],\n",
       "        [-0.15258422],\n",
       "        [-0.21139695],\n",
       "        [-0.1143432 ],\n",
       "        [-0.1741879 ],\n",
       "        [ 0.09361894],\n",
       "        [-0.20139912],\n",
       "        [-0.46623608],\n",
       "        [-0.01221875],\n",
       "        [ 0.09317771],\n",
       "        [ 0.19101545],\n",
       "        [-0.10841389],\n",
       "        [ 0.05650273],\n",
       "        [ 0.22268623],\n",
       "        [ 0.17389134],\n",
       "        [-0.18760064]], dtype=float32),\n",
       " array([-1.0437539], dtype=float32)]"
      ]
     },
     "execution_count": 5,
     "metadata": {},
     "output_type": "execute_result"
    }
   ],
   "source": [
    "model.get_weights()"
   ]
  },
  {
   "cell_type": "code",
   "execution_count": 11,
   "metadata": {},
   "outputs": [],
   "source": [
    "def decode_review(review):\n",
    "    return ' '.join([reverse_word_index.get(i-3,'?') for i in review])\n",
    "def preprocess_review(review):\n",
    "    review=review.split()\n",
    "    review=[word_index.get(i,2)+3 for i in review]\n",
    "    padded_review=sequence.pad_sequences([review],maxlen=500)\n",
    "    return padded_review"
   ]
  },
  {
   "cell_type": "code",
   "execution_count": 12,
   "metadata": {},
   "outputs": [],
   "source": [
    "def predict_review(review):\n",
    "    preprocessed_review=preprocess_review(review)\n",
    "    prediction=model.predict(preprocessed_review)\n",
    "    sentinement='Positive' if prediction[0][0]>0.5 else 'Negative'\n",
    "    return sentinement,prediction[0][0]"
   ]
  },
  {
   "cell_type": "code",
   "execution_count": 18,
   "metadata": {},
   "outputs": [],
   "source": [
    "example_rev=\"This movie is the best! I loved the acting and the plot was amazing\""
   ]
  },
  {
   "cell_type": "code",
   "execution_count": 19,
   "metadata": {},
   "outputs": [
    {
     "name": "stdout",
     "output_type": "stream",
     "text": [
      "\u001b[1m1/1\u001b[0m \u001b[32m━━━━━━━━━━━━━━━━━━━━\u001b[0m\u001b[37m\u001b[0m \u001b[1m0s\u001b[0m 68ms/step\n",
      "Sentiment was Positive with a score of 0.8931049108505249\n"
     ]
    }
   ],
   "source": [
    "sentiment,score=predict_review(example_rev)\n",
    "print(f'Sentiment was {sentiment} with a score of {score}')"
   ]
  },
  {
   "cell_type": "code",
   "execution_count": null,
   "metadata": {},
   "outputs": [],
   "source": []
  }
 ],
 "metadata": {
  "kernelspec": {
   "display_name": "Python 3",
   "language": "python",
   "name": "python3"
  },
  "language_info": {
   "codemirror_mode": {
    "name": "ipython",
    "version": 3
   },
   "file_extension": ".py",
   "mimetype": "text/x-python",
   "name": "python",
   "nbconvert_exporter": "python",
   "pygments_lexer": "ipython3",
   "version": "3.11.0"
  }
 },
 "nbformat": 4,
 "nbformat_minor": 2
}
